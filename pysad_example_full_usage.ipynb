{
  "nbformat": 4,
  "nbformat_minor": 0,
  "metadata": {
    "colab": {
      "name": "pysad_example_full_usage.ipynb",
      "provenance": [],
      "collapsed_sections": [],
      "authorship_tag": "ABX9TyMMfkBOHqYiK/ex42j1ABkZ",
      "include_colab_link": true
    },
    "kernelspec": {
      "name": "python3",
      "display_name": "Python 3"
    }
  },
  "cells": [
    {
      "cell_type": "markdown",
      "metadata": {
        "id": "view-in-github",
        "colab_type": "text"
      },
      "source": [
        "<a href=\"https://colab.research.google.com/github/andrewm4894/pysad_colabs/blob/main/pysad_example_full_usage.ipynb\" target=\"_parent\"><img src=\"https://colab.research.google.com/assets/colab-badge.svg\" alt=\"Open In Colab\"/></a>"
      ]
    },
    {
      "cell_type": "code",
      "metadata": {
        "id": "7s1VoZN9pgd-"
      },
      "source": [
        "# uncomment below to install pysad\n",
        "#!pip install pysad==0.1.1 mmh3==2.5.1 rrcf==0.4.3"
      ],
      "execution_count": 1,
      "outputs": []
    },
    {
      "cell_type": "code",
      "metadata": {
        "id": "Cjovdf_dppp5"
      },
      "source": [
        "# uncomment below to get data for the examples\n",
        "#!wget https://github.com/selimfirat/pysad/blob/master/examples/data/arrhythmia.mat?raw=true\n",
        "#!mkdir data\n",
        "#!mv arrhythmia.mat\\?raw\\=true data/arrhythmia.mat"
      ],
      "execution_count": 2,
      "outputs": []
    },
    {
      "cell_type": "code",
      "metadata": {
        "id": "TavEAvTSppiZ",
        "outputId": "b4d0b906-0e03-49bc-e179-5ea500677306",
        "colab": {
          "base_uri": "https://localhost:8080/",
          "height": 122
        }
      },
      "source": [
        "# Import modules.\n",
        "from sklearn.utils import shuffle\n",
        "from pysad.evaluation import AUROCMetric\n",
        "from pysad.models import xStream, RobustRandomCutForest, KNNCAD\n",
        "from pysad.utils import ArrayStreamer\n",
        "from pysad.transform.postprocessing import RunningAveragePostprocessor\n",
        "from pysad.transform.preprocessing import InstanceUnitNormScaler\n",
        "from pysad.utils import Data\n",
        "from tqdm import tqdm\n",
        "import numpy as np\n",
        "\n",
        "# This example demonstrates the usage of the most modules in PySAD framework.\n",
        "if __name__ == \"__main__\":\n",
        "    np.random.seed(61)  # Fix random seed.\n",
        "\n",
        "    # Get data to stream.\n",
        "    data = Data(\"data\")\n",
        "    X_all, y_all = data.get_data(\"arrhythmia.mat\")\n",
        "    X_all, y_all = shuffle(X_all, y_all)\n",
        "\n",
        "    iterator = ArrayStreamer(shuffle=False)  # Init streamer to simulate streaming data.\n",
        "\n",
        "    model = KNNCAD(probationary_period=50)\n",
        "    #model = RobustRandomCutForest()\n",
        "    #model = xStream()  # Init xStream anomaly detection model.\n",
        "    preprocessor = InstanceUnitNormScaler()  # Init normalizer.\n",
        "    postprocessor = RunningAveragePostprocessor(window_size=5)  # Init running average postprocessor.\n",
        "    auroc = AUROCMetric()  # Init area under receiver-operating- characteristics curve metric.\n",
        "\n",
        "    for X, y in tqdm(iterator.iter(X_all[100:], y_all[100:])):  # Stream data.\n",
        "        X = preprocessor.fit_transform_partial(X)  # Fit preprocessor to and transform the instance.\n",
        "\n",
        "        score = model.fit_score_partial(X)  # Fit model to and score the instance.\n",
        "        score = postprocessor.fit_transform_partial(score)  # Apply running averaging to the score.\n",
        "\n",
        "        auroc.update(y, score)  # Update AUROC metric.\n",
        "\n",
        "    # Output resulting AUROCS metric.\n",
        "    print(\"\\nAUROC: \", auroc.get())"
      ],
      "execution_count": 3,
      "outputs": [
        {
          "output_type": "stream",
          "text": [
            "/usr/local/lib/python3.6/dist-packages/sklearn/utils/deprecation.py:143: FutureWarning: The sklearn.utils.testing module is  deprecated in version 0.22 and will be removed in version 0.24. The corresponding classes / functions should instead be imported from sklearn.utils. Anything that cannot be imported from sklearn.utils is now part of the private API.\n",
            "  warnings.warn(message, FutureWarning)\n",
            "352it [00:00, 789.90it/s]"
          ],
          "name": "stderr"
        },
        {
          "output_type": "stream",
          "text": [
            "\n",
            "AUROC:  0.5670830226199354\n"
          ],
          "name": "stdout"
        },
        {
          "output_type": "stream",
          "text": [
            "\n"
          ],
          "name": "stderr"
        }
      ]
    },
    {
      "cell_type": "code",
      "metadata": {
        "id": "HMOCrtpdppak"
      },
      "source": [
        ""
      ],
      "execution_count": 3,
      "outputs": []
    }
  ]
}